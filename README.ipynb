{
 "cells": [
  {
   "cell_type": "markdown",
   "metadata": {},
   "source": [
    "# AK-Tippspiel\n",
    "\n",
    "This project is about predicting the exact results of Bundesliga games."
   ]
  }
 ],
 "metadata": {
  "kernelspec": {
   "display_name": "AK-Tippspiel",
   "language": "python",
   "name": "python3"
  },
  "language_info": {
   "name": "python",
   "version": "3.11.9"
  }
 },
 "nbformat": 4,
 "nbformat_minor": 2
}
